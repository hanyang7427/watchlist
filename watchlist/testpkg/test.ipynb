{
 "cells": [
  {
   "cell_type": "code",
   "execution_count": 3,
   "metadata": {},
   "outputs": [],
   "source": [
    "import sys\n",
    "sys.path.append('D:\\\\watchlist\\\\')"
   ]
  },
  {
   "cell_type": "code",
   "execution_count": 14,
   "metadata": {},
   "outputs": [],
   "source": [
    "class Problem():\n",
    "    __tablename__ = 'problem'\n",
    "    __table_args__ = {'comment': '问题'}\n",
    "\n",
    "    id = 1\n",
    "    def x(self):\n",
    "        print(self.__table__.columns)"
   ]
  },
  {
   "cell_type": "code",
   "execution_count": 16,
   "metadata": {},
   "outputs": [],
   "source": [
    "a = Problem()"
   ]
  },
  {
   "cell_type": "code",
   "execution_count": 17,
   "metadata": {},
   "outputs": [
    {
     "ename": "AttributeError",
     "evalue": "'Problem' object has no attribute 'x'",
     "output_type": "error",
     "traceback": [
      "\u001b[1;31m---------------------------------------------------------------------------\u001b[0m",
      "\u001b[1;31mAttributeError\u001b[0m                            Traceback (most recent call last)",
      "\u001b[1;32md:\\watchlist\\watchlist\\testpkg\\test.ipynb Cell 4\u001b[0m in \u001b[0;36m<cell line: 1>\u001b[1;34m()\u001b[0m\n\u001b[1;32m----> <a href='vscode-notebook-cell:/d%3A/watchlist/watchlist/testpkg/test.ipynb#ch0000005?line=0'>1</a>\u001b[0m a\u001b[39m.\u001b[39;49mx\n",
      "\u001b[1;31mAttributeError\u001b[0m: 'Problem' object has no attribute 'x'"
     ]
    }
   ],
   "source": [
    "a.x"
   ]
  }
 ],
 "metadata": {
  "kernelspec": {
   "display_name": "Python 3.8.10 ('env': venv)",
   "language": "python",
   "name": "python3"
  },
  "language_info": {
   "codemirror_mode": {
    "name": "ipython",
    "version": 3
   },
   "file_extension": ".py",
   "mimetype": "text/x-python",
   "name": "python",
   "nbconvert_exporter": "python",
   "pygments_lexer": "ipython3",
   "version": "3.8.10"
  },
  "orig_nbformat": 4,
  "vscode": {
   "interpreter": {
    "hash": "dd423fbe122dea1fdde31a0d1c8c3e9d5bbb2e8a8616677a11d7f515e0d1e144"
   }
  }
 },
 "nbformat": 4,
 "nbformat_minor": 2
}
