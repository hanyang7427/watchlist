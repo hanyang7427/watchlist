{
 "cells": [
  {
   "cell_type": "code",
   "execution_count": 2,
   "metadata": {},
   "outputs": [],
   "source": [
    "class Node:\n",
    "    def __init__(self,value):\n",
    "        self.value = value\n",
    "        self.next = None\n",
    "a = Node(1)\n",
    "a.value"
   ]
  },
  {
   "cell_type": "code",
   "execution_count": 27,
   "metadata": {},
   "outputs": [],
   "source": [
    "def list_to_link_list(l1):\n",
    "    if len(l1)>0:\n",
    "        head = Node(l1[0])\n",
    "        curr = head\n",
    "        for i in l1[1:]:\n",
    "            curr.next = Node(i)\n",
    "            curr = curr.next\n",
    "        return head\n",
    "    else:\n",
    "        return None\n",
    "\n",
    "def link_list_to_list(head):\n",
    "    L = []\n",
    "    while head:\n",
    "        L.append(head.value)\n",
    "        head = head.next\n",
    "    return L\n"
   ]
  },
  {
   "cell_type": "code",
   "execution_count": 30,
   "metadata": {},
   "outputs": [
    {
     "data": {
      "text/plain": [
       "[3, 4, 5, 6]"
      ]
     },
     "execution_count": 30,
     "metadata": {},
     "output_type": "execute_result"
    }
   ],
   "source": [
    "head = list_to_link_list([3,4,5,6])\n",
    "l = link_list_to_list(head)\n",
    "l"
   ]
  },
  {
   "cell_type": "code",
   "execution_count": 25,
   "metadata": {},
   "outputs": [],
   "source": []
  },
  {
   "cell_type": "code",
   "execution_count": 16,
   "metadata": {},
   "outputs": [
    {
     "name": "stdout",
     "output_type": "stream",
     "text": [
      "None\n"
     ]
    }
   ],
   "source": [
    "print(a.next)"
   ]
  }
 ],
 "metadata": {
  "kernelspec": {
   "display_name": "Python 3.8.10 ('env': venv)",
   "language": "python",
   "name": "python3"
  },
  "language_info": {
   "codemirror_mode": {
    "name": "ipython",
    "version": 3
   },
   "file_extension": ".py",
   "mimetype": "text/x-python",
   "name": "python",
   "nbconvert_exporter": "python",
   "pygments_lexer": "ipython3",
   "version": "3.8.10"
  },
  "orig_nbformat": 4,
  "vscode": {
   "interpreter": {
    "hash": "dd423fbe122dea1fdde31a0d1c8c3e9d5bbb2e8a8616677a11d7f515e0d1e144"
   }
  }
 },
 "nbformat": 4,
 "nbformat_minor": 2
}
