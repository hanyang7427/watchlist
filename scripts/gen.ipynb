{
 "cells": [
  {
   "cell_type": "code",
   "execution_count": 1,
   "metadata": {},
   "outputs": [],
   "source": [
    "import os"
   ]
  },
  {
   "cell_type": "markdown",
   "metadata": {},
   "source": [
    "### topic"
   ]
  },
  {
   "cell_type": "code",
   "execution_count": 2,
   "metadata": {},
   "outputs": [
    {
     "data": {
      "text/plain": [
       "[{'name': 'arrays', 'id': 1},\n",
       " {'name': 'linked_lists', 'id': 2},\n",
       " {'name': 'maps_hash', 'id': 3},\n",
       " {'name': 'queue', 'id': 4},\n",
       " {'name': 'recursion', 'id': 5},\n",
       " {'name': 'stack', 'id': 6},\n",
       " {'name': 'strings', 'id': 7},\n",
       " {'name': 'basic', 'id': 8},\n",
       " {'name': 'divideconquer', 'id': 9},\n",
       " {'name': 'sort', 'id': 10},\n",
       " {'name': 'trie', 'id': 11},\n",
       " {'name': 'dynamic', 'id': 12},\n",
       " {'name': 'graph', 'id': 13},\n",
       " {'name': 'greed', 'id': 14}]"
      ]
     },
     "execution_count": 2,
     "metadata": {},
     "output_type": "execute_result"
    }
   ],
   "source": [
    "\n",
    "L = []\n",
    "def x(d):\n",
    "    for x in [name for name in os.listdir(d) if os.path.isdir(os.path.join(d,name)) & (not name.startswith('__')) & (not name.startswith('.'))]:\n",
    "        for y in [n for n in os.listdir(os.path.join(d,x)) if os.path.isdir(os.path.join(d,x,n)) & (not n.startswith('__')) & (not n.startswith('.'))]:\n",
    "            for z in [a for a in os.listdir(os.path.join(d,x,y)) if os.path.isdir(os.path.join(d,x,y,a)) & (not a.startswith('__')) & (not a.startswith('.'))]:\n",
    "                L.append(z)\n",
    "        # print(x)\n",
    "x('../../suanfa')\n",
    "[{'name':x,'id':idx+1} for idx,x in enumerate(L)]"
   ]
  },
  {
   "cell_type": "markdown",
   "metadata": {},
   "source": [
    "### problems"
   ]
  },
  {
   "cell_type": "code",
   "execution_count": 4,
   "metadata": {},
   "outputs": [
    {
     "data": {
      "text/plain": [
       "[{'name': 'Add-One.ipynb', 'id': 1},\n",
       " {'name': 'Duplicate-Number.ipynb', 'id': 2},\n",
       " {'name': 'Max-Sum-Subarray.ipynb', 'id': 3},\n",
       " {'name': \"Pascal's-Triangle.ipynb\", 'id': 4},\n",
       " {'name': 'Create a sorted linked list Exercise.ipynb', 'id': 5},\n",
       " {'name': 'Detecting Loops.ipynb', 'id': 6},\n",
       " {'name': 'Even-After-Odd-Nodes.ipynb', 'id': 7},\n",
       " {'name': 'Flattening a nested linked list.ipynb', 'id': 8},\n",
       " {'name': 'Implementing and traversing a linked list.ipynb', 'id': 9},\n",
       " {'name': 'Linked List Practice.ipynb', 'id': 10},\n",
       " {'name': 'Linked Lists Basics.ipynb', 'id': 11},\n",
       " {'name': 'Reverse a Linked List.ipynb', 'id': 12},\n",
       " {'name': 'Skip-i-delete-j.ipynb', 'id': 13},\n",
       " {'name': 'Swap-Nodes.ipynb', 'id': 14},\n",
       " {'name': 'Caching.ipynb', 'id': 15},\n",
       " {'name': 'HashMap.ipynb', 'id': 16},\n",
       " {'name': 'Introduction to Maps.ipynb', 'id': 17},\n",
       " {'name': 'Longest-Consecutive-Subsequence.ipynb', 'id': 18},\n",
       " {'name': 'Pair-Sum-to-target.ipynb', 'id': 19},\n",
       " {'name': 'String Key Hash Table.ipynb', 'id': 20},\n",
       " {'name': 'Build a queue using a linked list.ipynb', 'id': 21},\n",
       " {'name': 'Build a Queue Using a Stack.ipynb', 'id': 22},\n",
       " {'name': 'Build a queue using an array.ipynb', 'id': 23},\n",
       " {'name': 'Build a Queue Using High-Level Python.ipynb', 'id': 24},\n",
       " {'name': 'Reverse a queue.ipynb', 'id': 25},\n",
       " {'name': 'Add-One-Again.ipynb', 'id': 26},\n",
       " {'name': 'Call stack.ipynb', 'id': 27},\n",
       " {'name': 'Checking Palindrome.ipynb', 'id': 28},\n",
       " {'name': 'Deep Reverse.ipynb', 'id': 29},\n",
       " {'name': 'Factorial using recursion.ipynb', 'id': 30},\n",
       " {'name': 'Keypad Combinations.ipynb', 'id': 31},\n",
       " {'name': 'Last-index-recursion.ipynb', 'id': 32},\n",
       " {'name': 'Permutation.ipynb', 'id': 33},\n",
       " {'name': 'Recurrence Relations.ipynb', 'id': 34},\n",
       " {'name': 'Return-Codes.ipynb', 'id': 35},\n",
       " {'name': 'Return-Subsets.ipynb', 'id': 36},\n",
       " {'name': 'Reversing a string.ipynb', 'id': 37},\n",
       " {'name': 'Staircase.ipynb', 'id': 38},\n",
       " {'name': 'String-Permutations.ipynb', 'id': 39},\n",
       " {'name': 'Tower-of-Hanoi.ipynb', 'id': 40},\n",
       " {'name': 'Balanced Parentheses Exercise - Stacks.ipynb', 'id': 41},\n",
       " {'name': 'Implement a stack using a linked list.ipynb', 'id': 42},\n",
       " {'name': 'Implement a stack using an array.ipynb', 'id': 43},\n",
       " {'name': 'Minimum bracket reversals.ipynb', 'id': 44},\n",
       " {'name': 'python_stack_practice.ipynb', 'id': 45},\n",
       " {'name': 'Reverse a stack.ipynb', 'id': 46},\n",
       " {'name': 'Reverse Polish notation.ipynb', 'id': 47},\n",
       " {'name': 'Strings.ipynb', 'id': 48},\n",
       " {'name': 'Binary search practice.ipynb', 'id': 49},\n",
       " {'name': 'binary_search_variations.ipynb', 'id': 50},\n",
       " {'name': 'First and last index.ipynb', 'id': 51},\n",
       " {'name': 'Guess the number.ipynb', 'id': 52},\n",
       " {'name': 'HeapSort.ipynb', 'id': 53},\n",
       " {'name': 'heap_introduction.ipynb', 'id': 54},\n",
       " {'name': 'RedBlackTreeWalkthrough.ipynb', 'id': 55},\n",
       " {'name': 'Kth Largest Element.ipynb', 'id': 56},\n",
       " {'name': 'Maximum Sum Sub-Array.ipynb', 'id': 57},\n",
       " {'name': 'bubble_sort_exercises.ipynb', 'id': 58},\n",
       " {'name': 'Case Specific Sorting of Strings.ipynb', 'id': 59},\n",
       " {'name': 'Counting Inversions.ipynb', 'id': 60},\n",
       " {'name': 'merge_sort_walkthrough.ipynb', 'id': 61},\n",
       " {'name': 'Pair Sum Problem.ipynb', 'id': 62},\n",
       " {'name': 'QuickSortWalkthough.ipynb', 'id': 63},\n",
       " {'name': 'Sort-0-1-2.ipynb', 'id': 64},\n",
       " {'name': 'trie_introduction.ipynb', 'id': 65},\n",
       " {'name': 'Coin Change.ipynb', 'id': 66},\n",
       " {'name': 'knapsack_problem.ipynb', 'id': 67},\n",
       " {'name': 'Longest Palindromic Sequence.ipynb', 'id': 68},\n",
       " {'name': 'longest_common_subsequence.ipynb', 'id': 69},\n",
       " {'name': 'Stock Prices.ipynb', 'id': 70},\n",
       " {'name': 'Connecting-Islands.ipynb', 'id': 71},\n",
       " {'name': 'DFS_recursion.ipynb', 'id': 72},\n",
       " {'name': 'dijkstra.ipynb', 'id': 73},\n",
       " {'name': 'graph_bfs.ipynb', 'id': 74},\n",
       " {'name': 'graph_dfs.ipynb', 'id': 75},\n",
       " {'name': 'shortest_hops.ipynb', 'id': 76},\n",
       " {'name': 'Dijkstras_Shortest_Path_Algorithm.ipynb', 'id': 77},\n",
       " {'name': 'greedy_introduction.ipynb', 'id': 78},\n",
       " {'name': 'Min_Operations.ipynb', 'id': 79},\n",
       " {'name': 'min_platforms.ipynb', 'id': 80}]"
      ]
     },
     "execution_count": 4,
     "metadata": {},
     "output_type": "execute_result"
    }
   ],
   "source": [
    "\n",
    "L = []\n",
    "def x(d):\n",
    "    for x in [name for name in os.listdir(d) if os.path.isdir(os.path.join(d,name)) & (not name.startswith('__')) & (not name.startswith('.'))]:\n",
    "        for y in [n for n in os.listdir(os.path.join(d,x)) if os.path.isdir(os.path.join(d,x,n)) & (not n.startswith('__')) & (not n.startswith('.'))]:\n",
    "            for z in [a for a in os.listdir(os.path.join(d,x,y)) if os.path.isdir(os.path.join(d,x,y,a)) & (not a.startswith('__')) & (not a.startswith('.'))]:\n",
    "                for l in [b for b in os.listdir(os.path.join(d,x,y,z)) if os.path.isfile(os.path.join(d,x,y,z,b)) & (b.endswith('.ipynb'))]:\n",
    "                    L.append(l)\n",
    "x('../../suanfa')\n",
    "[{'name':x,'id':idx+1} for idx,x in enumerate(L)]\n",
    "# [{'name':x} for x in L]"
   ]
  },
  {
   "cell_type": "code",
   "execution_count": 6,
   "metadata": {},
   "outputs": [
    {
     "name": "stdout",
     "output_type": "stream",
     "text": [
      "{'1': [0, 1, 2, 3, 4, 5, 6], '2': [0, 1, 2, 3], '3': [0, 1, 2]}\n"
     ]
    }
   ],
   "source": [
    "dic = {}\n",
    "def x(d):\n",
    "    for x in [name for name in os.listdir(d) if os.path.isdir(os.path.join(d,name)) & (not name.startswith('__')) & (not name.startswith('.'))]:\n",
    "        dic[x] = []\n",
    "        for y in [n for n in os.listdir(os.path.join(d,x)) if os.path.isdir(os.path.join(d,x,n)) & (not n.startswith('__')) & (not n.startswith('.'))]:\n",
    "            for idx,z in enumerate([a for a in os.listdir(os.path.join(d,x,y)) if os.path.isdir(os.path.join(d,x,y,a)) & (not a.startswith('__')) & (not a.startswith('.'))]):\n",
    "                dic[x].append(idx)\n",
    "        # print(x)\n",
    "x('../../suanfa')\n",
    "print(dic)"
   ]
  }
 ],
 "metadata": {
  "kernelspec": {
   "display_name": "Python 3.8.10 ('env': venv)",
   "language": "python",
   "name": "python3"
  },
  "language_info": {
   "codemirror_mode": {
    "name": "ipython",
    "version": 3
   },
   "file_extension": ".py",
   "mimetype": "text/x-python",
   "name": "python",
   "nbconvert_exporter": "python",
   "pygments_lexer": "ipython3",
   "version": "3.8.10"
  },
  "orig_nbformat": 4,
  "vscode": {
   "interpreter": {
    "hash": "dd423fbe122dea1fdde31a0d1c8c3e9d5bbb2e8a8616677a11d7f515e0d1e144"
   }
  }
 },
 "nbformat": 4,
 "nbformat_minor": 2
}
