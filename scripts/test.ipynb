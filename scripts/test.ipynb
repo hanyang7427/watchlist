{
 "cells": [
  {
   "cell_type": "code",
   "execution_count": 4,
   "metadata": {},
   "outputs": [],
   "source": [
    "from werkzeug.security import generate_password_hash, check_password_hash"
   ]
  },
  {
   "cell_type": "code",
   "execution_count": 4,
   "metadata": {},
   "outputs": [
    {
     "data": {
      "text/plain": [
       "'pbkdf2:sha256:150000$mSyKOM3G$cab8db14b650c0cb9384fc28c3ed7105de4a0b3b1553ddff784988ff7de0ba94'"
      ]
     },
     "execution_count": 4,
     "metadata": {},
     "output_type": "execute_result"
    }
   ],
   "source": [
    "pw_hash = generate_password_hash('dog')\n",
    "pw_hash"
   ]
  },
  {
   "cell_type": "code",
   "execution_count": 21,
   "metadata": {},
   "outputs": [
    {
     "data": {
      "text/plain": [
       "['d:\\\\watchlist\\\\env', 'd:\\\\watchlist\\\\env\\\\lib\\\\site-packages']"
      ]
     },
     "execution_count": 21,
     "metadata": {},
     "output_type": "execute_result"
    }
   ],
   "source": [
    "import site\n",
    "site.getsitepackages()"
   ]
  },
  {
   "cell_type": "code",
   "execution_count": 3,
   "metadata": {},
   "outputs": [
    {
     "data": {
      "text/plain": [
       "['d:\\\\watchlist\\\\scripts',\n",
       " 'D:\\\\ZProgramFiles\\\\python38\\\\python38.zip',\n",
       " 'D:\\\\ZProgramFiles\\\\python38\\\\DLLs',\n",
       " 'D:\\\\ZProgramFiles\\\\python38\\\\lib',\n",
       " 'D:\\\\ZProgramFiles\\\\python38',\n",
       " 'd:\\\\watchlist\\\\env',\n",
       " '',\n",
       " 'd:\\\\watchlist\\\\env\\\\lib\\\\site-packages',\n",
       " 'd:\\\\watchlist\\\\env\\\\lib\\\\site-packages\\\\win32',\n",
       " 'd:\\\\watchlist\\\\env\\\\lib\\\\site-packages\\\\win32\\\\lib',\n",
       " 'd:\\\\watchlist\\\\env\\\\lib\\\\site-packages\\\\Pythonwin']"
      ]
     },
     "execution_count": 3,
     "metadata": {},
     "output_type": "execute_result"
    }
   ],
   "source": [
    "import sys\n",
    "sys.path"
   ]
  },
  {
   "cell_type": "code",
   "execution_count": 15,
   "metadata": {},
   "outputs": [],
   "source": [
    "from sqlalchemy import Column, Index, String, Table\n",
    "from sqlalchemy.dialects.mysql import INTEGER\n",
    "from sqlalchemy.ext.declarative import declarative_base\n",
    "\n",
    "Base = declarative_base()\n",
    "metadata = Base.metadata\n",
    "\n",
    "\n",
    "t_problem = Table(\n",
    "    'problem', metadata,\n",
    "    Column('id', INTEGER(11), nullable=False, unique=True),\n",
    "    Column('name', String(100), nullable=False, unique=True),\n",
    "    comment='问题'\n",
    ")\n"
   ]
  },
  {
   "cell_type": "code",
   "execution_count": 2,
   "metadata": {},
   "outputs": [
    {
     "name": "stdout",
     "output_type": "stream",
     "text": [
      "['d:\\\\watchlist\\\\watchlist\\\\scripts', 'D:\\\\ZProgramFiles\\\\python38\\\\python38.zip', 'D:\\\\ZProgramFiles\\\\python38\\\\DLLs', 'D:\\\\ZProgramFiles\\\\python38\\\\lib', 'D:\\\\ZProgramFiles\\\\python38', 'd:\\\\watchlist\\\\env', '', 'd:\\\\watchlist\\\\env\\\\lib\\\\site-packages', 'd:\\\\watchlist\\\\env\\\\lib\\\\site-packages\\\\win32', 'd:\\\\watchlist\\\\env\\\\lib\\\\site-packages\\\\win32\\\\lib', 'd:\\\\watchlist\\\\env\\\\lib\\\\site-packages\\\\Pythonwin']\n"
     ]
    }
   ],
   "source": [
    "import sys\n",
    "print(sys.path)"
   ]
  }
 ],
 "metadata": {
  "kernelspec": {
   "display_name": "Python 3.8.10 ('env': venv)",
   "language": "python",
   "name": "python3"
  },
  "language_info": {
   "codemirror_mode": {
    "name": "ipython",
    "version": 3
   },
   "file_extension": ".py",
   "mimetype": "text/x-python",
   "name": "python",
   "nbconvert_exporter": "python",
   "pygments_lexer": "ipython3",
   "version": "3.8.10"
  },
  "orig_nbformat": 4,
  "vscode": {
   "interpreter": {
    "hash": "dd423fbe122dea1fdde31a0d1c8c3e9d5bbb2e8a8616677a11d7f515e0d1e144"
   }
  }
 },
 "nbformat": 4,
 "nbformat_minor": 2
}
